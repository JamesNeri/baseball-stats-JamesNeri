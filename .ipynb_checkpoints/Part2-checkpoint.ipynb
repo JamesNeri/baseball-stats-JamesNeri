{
 "cells": [
  {
   "cell_type": "markdown",
   "metadata": {},
   "source": [
    "# Part 2: Database Design Docs\n",
    "In this assignment you use Markdown and Lucidchart to write documentation for the Baseball database. "
   ]
  },
  {
   "cell_type": "markdown",
   "metadata": {},
   "source": [
    "## Draw a ERD using Lucidchart\n",
    "1. Log into your @student.fairfield.edu Google drive. (Note it can't be your fairfield.edu or personal Google account. Fairfield University has a site license for Lucidchart that is domain limited to student.fairfield.edu.)\n",
    "2. Launch Lucidchart from the \"New\" menu at the top right of your drive window. You will need to ask for \"More\" apps to see it.  \n",
    "![LaunchLucidchart](img/LaunchLucidchart.png)\n",
    "3. Lucidchart will ask you to select a Template. On the right hand side choose Entity Relationship Diagram and then select Blank ERD from the options on the left. Delete the rounded box on the right. (The box has links to videos showing you how to do ERDs in Lucidchart. However, we don't want it in the final diagram and can recreate them when needed by creating a Blank ERD.)  \n",
    "![BlankERD](img/BlankERD.png)\n",
    "4. The good news ... Lucidchart can draw an ERD from a live database server via it's import feature.   \n",
    "The bad news ... Lucidchart doesn't support SQLite, so we're going to have to do it manually.  \n",
    "To keep things simple, we can copy and paste from the SQL queries we ran in Part 1. \n",
    "5. Drag an entity shape from the left panel onto the canvas.  \n",
    "![FirstEntity](img/FirstEntity.png)\n",
    "6. We'll start with the `Master` table. Fill out the table name at the top and a few selected fields below: playerid, nameFirst, nameLast, weight, height. (You will have to increase the number of fields from 3 to 6.) Use `...` (elipsis) in the sixth field to indicate that there are more. Then set the entity header to \"SHADED HEADER\" and underline the \"playerID\" field to indicate that it is a primary key field. \n",
    "![MasterEntity](img/MasterEntity.png)\n",
    "7. Next look at your candidate keys from Part 1 to select the next entity. How about Batting, which looks to be linked to the Master table through the playerId field?  Copy and paste your Master entity to get a quick copy. Rename the entity to \"Batting\". Then add in a few fields, takig care to include all primary keys, and finish with an elipsis. \n",
    "8. We need to Connect the two entities. Click on the Master entity. Then on the side closest to the Batting entity, drag one of the little circles (to create a connector) and pull it until it connects to the Batting entity.  \n",
    "![Master2Batting_a.png](img/Master2Batting_a.png)\n",
    "9. Adjust the connection to indicate optional/required relationship. Click on the connector and select the end points as show below.  \n",
    "![RelationshipRequired](img/RelationshipRequired.png)\n",
    "10. Continue on for the rest of the entities, building from the center outward. It will be tricky sometimes figuring out the exact relationships because we don't have any foreign keys defined. (Ugh.) Do your best and see how it works.\n",
    "11. Export your "
   ]
  },
  {
   "cell_type": "code",
   "execution_count": null,
   "metadata": {},
   "outputs": [],
   "source": []
  }
 ],
 "metadata": {
  "kernelspec": {
   "display_name": "Python 3",
   "language": "python",
   "name": "python3"
  },
  "language_info": {
   "codemirror_mode": {
    "name": "ipython",
    "version": 3
   },
   "file_extension": ".py",
   "mimetype": "text/x-python",
   "name": "python",
   "nbconvert_exporter": "python",
   "pygments_lexer": "ipython3",
   "version": "3.6.8"
  }
 },
 "nbformat": 4,
 "nbformat_minor": 2
}
