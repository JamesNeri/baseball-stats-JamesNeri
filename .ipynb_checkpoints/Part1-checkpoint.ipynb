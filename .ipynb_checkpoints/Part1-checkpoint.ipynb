{
 "cells": [
  {
   "cell_type": "markdown",
   "metadata": {},
   "source": [
    "# Part 1: Baseball Stats Explorations\n",
    "__This primer illustrates the basics of SQLite usage in Jupyter__"
   ]
  },
  {
   "cell_type": "markdown",
   "metadata": {},
   "source": [
    "## Boilerplate Setup Code\n",
    "Run this to set up %sql and %%sql magics"
   ]
  },
  {
   "cell_type": "code",
   "execution_count": null,
   "metadata": {},
   "outputs": [],
   "source": [
    "%load_ext sql"
   ]
  },
  {
   "cell_type": "markdown",
   "metadata": {},
   "source": [
    "## First, a note about Jupyter Magics\n",
    "Jupyter supports lots of languages, with Python and Markdown being the defaults. However, we can easily mix in code other languages using so-called *magic* extensions. By prepending foreign code with a few *magic* characters (sort of like an incantation) the code that follows is then run, with any outputs translated into Jupyter's native namespace (data structures). So, we can have Python code call R code which calls Bash code ..., all with just a little magic. \n",
    "\n",
    "Jupyter magics generally start with the `%` character. A bunch of them are [built into Jupyter](https://ipython.readthedocs.io/en/stable/interactive/magics.html) without any installation required. A few useful ones:\n",
    "- `%cd`, which changes the directory in which the code that follows is run\n",
    "- `%load_ext`, which we saw used above to load the %sql and %%sql magics\n",
    "- `%matplotlb`, which sets up the matplotlib library for interactive use\n",
    "- `%%bash`, which executes Bash commands just like in a Terminal tab\n",
    "- `%%html`, which renders HTML code for direct display in the notebook\n",
    "- `%%js`, which executes Javascript code\n",
    "\n",
    "You may have noticed that some magics start with `%` while others start with `%%`. \n",
    "- The ones with `%` are run \"inline\" so they can be mixed directly into other code. This way one could for example, have Python code that directly calls SQL code to pull data from a database (without having to set up SqlAlchemy). If the magic code returns an output value, then that value can be captured with a variable. The ony real draw-back is that inline magics have to be on a single line and can's have any line breaks.\n",
    "- The ones with `%%` are _cell magics_ that apply to a whole cell. Cell magics are always by themselves on the first line of a cell. The code on the lines below are then processed via the magic. If the cell returns a value then it is displayed immediately by Jupyter. However, if we want to capture that value in a variable then we have to use a special [kludge](https://en.wikipedia.org/wiki/Kludge) included in Jupyter for just this purpose. In Jupyter, the special variable `_` (yes, that's an underscore) always contains the output value of the most recently run cell. \n",
    "\n",
    "__Here we will be using `%sql` and `%%sql` magics to pull data from a SQLite database.__"
   ]
  },
  {
   "cell_type": "markdown",
   "metadata": {},
   "source": [
    "## Connecting to the Database\n",
    "The database we will be using is the `Lahman 2016` data repository that you may have already seen in other classes. We are using it as a sort of common data set that conencts the courses. The database includes [historical baseball data from 1871-2016](https://github.com/jknecht/baseball-archive-sqlite). \n",
    "\n",
    "The database tech used is SQLite, a very lightweight package that keeps all data in a single file (sort of like a document) that can be copied and even versioned in GitHub. This has lots of advantages for business analysts. Any time the analysts need data, they can _extract_ it from the DBMS server into a local SQLite database and then _transform_ it in SQLite (or Python or R) prior to analysis. They lose real-time data timeliness, but gain lots of control over way the data is organized.    \n",
    "\n",
    "In order to connect with any database we have to first provide a *connection string* that specifies:\n",
    "- what software 'bridge' software is needed\n",
    "- where to find the database \n",
    "- whatever user credentials are needed to access the data inside the database\n",
    "\n",
    "For a SQLite database, where there is no concept of user accounts or permissions, the connection string is very simple:\n",
    "```\n",
    "sqlite:///<path-to-file>\n",
    "```\n",
    "The bridge software is `sqlite` and the location of the database is given by `/<path-to-file>`. \n",
    "\n",
    "__The code below connects to the `lahman2016.sqlite` database in the same directory as this notebook.__"
   ]
  },
  {
   "cell_type": "code",
   "execution_count": null,
   "metadata": {},
   "outputs": [],
   "source": [
    "%sql sqlite:///lahman2016.sqlite"
   ]
  },
  {
   "cell_type": "markdown",
   "metadata": {},
   "source": [
    "## Using SQL to discover the database design\n",
    "This can be pretty confusing for SQL newbies. There are no SQL commands for listing all the tables in a database. Instead, we query one or more _metadata_ tables. In SQLite the metadata is in the `sqlite_master` table which describes every data definition object in the database.  Each object has the following fields:\n",
    "- `type` -- generally either 'table' or 'index'\n",
    "- `name` -- the object name (which is equal to tbl_name if the object is a table)\n",
    "- `tbl_name` -- the name of the table that the object describes\n",
    "- `rootpage` -- the precise location i the b-tree datastructure used to store the data (for SQLite internal use only)\n",
    "- `sql` -- the SQL DDL code needed to create the object "
   ]
  },
  {
   "cell_type": "code",
   "execution_count": null,
   "metadata": {},
   "outputs": [],
   "source": [
    "%%sql \n",
    "/* take a peek at the full sqlite_master table */\n",
    "SELECT * \n",
    "FROM sqlite_master"
   ]
  },
  {
   "cell_type": "markdown",
   "metadata": {},
   "source": [
    "Most of the time we just want to list the table names, like below."
   ]
  },
  {
   "cell_type": "code",
   "execution_count": null,
   "metadata": {},
   "outputs": [],
   "source": [
    "%%sql\n",
    "SELECT name\n",
    "FROM sqlite_master\n",
    "WHERE type='table'"
   ]
  },
  {
   "cell_type": "markdown",
   "metadata": {},
   "source": [
    "Of course, if you want to see (candidate) primary keys then you can do that as well, though it takes a little finagling. Can you take this query apart to see how it works?"
   ]
  },
  {
   "cell_type": "code",
   "execution_count": null,
   "metadata": {},
   "outputs": [],
   "source": [
    "%%sql\n",
    "SELECT tbl_name, SUBSTR(sql, INSTR(sql,'(')) AS candidate_key\n",
    "FROM sqlite_master\n",
    "WHERE type='index' and sql like \"CREATE UNIQUE%\";"
   ]
  },
  {
   "cell_type": "markdown",
   "metadata": {},
   "source": [
    "Tip: Once we have table in mind, we can then also see the CREATE statement that tells us the field definitions."
   ]
  },
  {
   "cell_type": "code",
   "execution_count": null,
   "metadata": {},
   "outputs": [],
   "source": [
    "%%sql\n",
    "/* the Master table with basic profile data */\n",
    "SELECT sql \n",
    "FROM sqlite_master\n",
    "WHERE type='table' AND name='Master'"
   ]
  },
  {
   "cell_type": "code",
   "execution_count": null,
   "metadata": {},
   "outputs": [],
   "source": [
    "%%sql\n",
    "SELECT sql \n",
    "FROM sqlite_master\n",
    "WHERE type='table' AND name='HallOfFame'"
   ]
  },
  {
   "cell_type": "markdown",
   "metadata": {},
   "source": [
    "## A couple easy queries\n",
    "Let's see if we can figure out how this database fits together by exploring a bit."
   ]
  },
  {
   "cell_type": "code",
   "execution_count": null,
   "metadata": {},
   "outputs": [],
   "source": [
    "%%sql \n",
    "/* Get a list of all Hall of Fame players */\n",
    "SELECT nameFirst, nameLast, yearid as induction_year\n",
    "FROM HallOfFame\n",
    "    JOIN Master USING (playerID)\n",
    "WHERE inducted='Y' and category='Player'\n",
    "ORDER BY yearid"
   ]
  },
  {
   "cell_type": "code",
   "execution_count": null,
   "metadata": {},
   "outputs": [],
   "source": [
    "%%sql\n",
    "/* add in the number of all star games each HoF player played */\n",
    "SELECT nameFirst, nameLast, HallOfFame.yearid as induction_year,count(AllstarFull.yearID) AS allstar_appearances\n",
    "FROM HallOfFame\n",
    "    JOIN Master USING (playerID)\n",
    "    LEFT JOIN AllstarFull USING (playerID)\n",
    "WHERE inducted='Y' and category='Player'\n",
    "GROUP BY playerID, nameFirst, nameLast\n",
    "ORDER BY allstar_appearances DESC"
   ]
  },
  {
   "cell_type": "markdown",
   "metadata": {},
   "source": [
    "## (Optional) Python Integration Tips\n",
    "This section is for those of you using this database in your other classes. If you don't know or care about Python then please skip. However, if you subsequently take a Python class with databases, then perhaps you might like to come back then.   "
   ]
  },
  {
   "cell_type": "markdown",
   "metadata": {},
   "source": [
    "### You can embed SQL code directly into your Python code without SqlAlchemy"
   ]
  },
  {
   "cell_type": "code",
   "execution_count": null,
   "metadata": {},
   "outputs": [],
   "source": [
    "import pandas as pd\n",
    " \n",
    "parks = %sql SELECT parkname, city, state, country FROM Parks\n",
    "parks # parks is a resultset object that is mostly compatible with a dataframe"
   ]
  },
  {
   "cell_type": "markdown",
   "metadata": {},
   "source": [
    "### Converting to pandas DataFrames\n",
    "To make get a proper dataframe just use the `.DataFrame` method of the resultset"
   ]
  },
  {
   "cell_type": "code",
   "execution_count": null,
   "metadata": {},
   "outputs": [],
   "source": [
    "parks_df = parks.DataFrame()\n",
    "parks_df"
   ]
  },
  {
   "cell_type": "markdown",
   "metadata": {},
   "source": [
    "### Using `%%sql` resultsets\n",
    "When using `%%sql` the entire cell is SQL code. So, how do we get the results into Python if we can't use Python code in the cell? It's simple, really, just use the `__` pseudo-variable. It always holds the results of the most recently run cell. As long as we take care to have our Python code in the cell immediately after the `%%sql` magic, we should be fine."
   ]
  },
  {
   "cell_type": "code",
   "execution_count": null,
   "metadata": {},
   "outputs": [],
   "source": [
    "%%sql\n",
    "SELECT parkname, city, state, country\n",
    "FROM Parks \n",
    "LIMIT 10"
   ]
  },
  {
   "cell_type": "code",
   "execution_count": null,
   "metadata": {},
   "outputs": [],
   "source": [
    "parks_df = _.DataFrame()\n",
    "parks_df"
   ]
  },
  {
   "cell_type": "markdown",
   "metadata": {},
   "source": [
    "### Using multiple databases\n",
    "Sometimes you will want to *port* data from one database to another. In this case, you will need to connect to both database at the same time. \n",
    "\n",
    "The trick is to specify the database connection string for each %sql call. \n",
    "```python\n",
    "%sql <connection-for-db1>\n",
    "result_db1 = %sql SELECT * FROM ...\n",
    "%sql <connection-for_db2>\n",
    "%sql INSERT ... \n",
    "```\n"
   ]
  }
 ],
 "metadata": {
  "kernelspec": {
   "display_name": "Python 3",
   "language": "python",
   "name": "python3"
  },
  "language_info": {
   "codemirror_mode": {
    "name": "ipython",
    "version": 3
   },
   "file_extension": ".py",
   "mimetype": "text/x-python",
   "name": "python",
   "nbconvert_exporter": "python",
   "pygments_lexer": "ipython3",
   "version": "3.6.5"
  }
 },
 "nbformat": 4,
 "nbformat_minor": 2
}
